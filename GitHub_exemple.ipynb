{
 "cells": [
  {
   "cell_type": "markdown",
   "metadata": {},
   "source": [
    "# Exemple de graphic statique vs interactif (Bokeh)"
   ]
  },
  {
   "cell_type": "code",
   "execution_count": null,
   "metadata": {
    "collapsed": true
   },
   "outputs": [],
   "source": [
    "%matplotlib inline\n",
    "from bokeh.sampledata.autompg import autompg\n",
    "import numpy as np\n",
    "import matplotlib.pyplot as plt"
   ]
  },
  {
   "cell_type": "markdown",
   "metadata": {},
   "source": [
    "Relation entre trois variables. Pour en savoir plus (https://archive.ics.uci.edu/ml/datasets/Auto+MPG) "
   ]
  },
  {
   "cell_type": "code",
   "execution_count": null,
   "metadata": {
    "collapsed": false
   },
   "outputs": [],
   "source": [
    "fig, ax = plt.subplots(1,3,figsize=(20,6))\n",
    "\n",
    "ax[0].scatter(autompg.mpg,autompg.weight, color='blue', alpha=0.8)\n",
    "ax[0].set_title(u'Poids vs MPG',fontsize=18)\n",
    "ax[0].set_ylabel('Poids',fontsize=14)\n",
    "ax[0].set_xlabel(u'Miles per US gallon',fontsize=14)\n",
    "\n",
    "ax[1].scatter(autompg.hp,autompg.weight, color='red', alpha=0.8)\n",
    "ax[1].set_title(u'Poids vs. Ch',fontsize=18)\n",
    "ax[1].set_ylabel('Poids',fontsize=14)\n",
    "ax[1].set_xlabel(u'Cheval-Vapeur',fontsize=14)\n",
    "\n",
    "ax[2].scatter(autompg.yr,autompg.mpg,color='green',alpha=0.8)\n",
    "ax[2].set_title(u'MPG vs Année',fontsize=18)\n",
    "ax[2].set_ylabel('Miles per US gallon',fontsize=14)\n",
    "ax[2].set_xlabel(u'Anéée',fontsize=14)\n",
    "\n",
    "plt.show()"
   ]
  },
  {
   "cell_type": "markdown",
   "metadata": {},
   "source": [
    "Même relation entre les trois variables mais en utilisant Bokeh"
   ]
  },
  {
   "cell_type": "code",
   "execution_count": null,
   "metadata": {
    "collapsed": false
   },
   "outputs": [],
   "source": []
  }
 ],
 "metadata": {
  "kernelspec": {
   "display_name": "Python 2",
   "language": "python",
   "name": "python2"
  },
  "language_info": {
   "codemirror_mode": {
    "name": "ipython",
    "version": 2
   },
   "file_extension": ".py",
   "mimetype": "text/x-python",
   "name": "python",
   "nbconvert_exporter": "python",
   "pygments_lexer": "ipython2",
   "version": "2.7.11"
  }
 },
 "nbformat": 4,
 "nbformat_minor": 0
}
